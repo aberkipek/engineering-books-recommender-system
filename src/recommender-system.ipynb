{
 "cells": [
  {
   "cell_type": "markdown",
   "id": "a7e2b3ba-175d-4ac3-b3fb-fbf5509f0497",
   "metadata": {},
   "source": [
    "# We will start from here!"
   ]
  },
  {
   "cell_type": "code",
   "execution_count": 5,
   "id": "4a09c178-beb6-418f-9695-4db2c3f23180",
   "metadata": {},
   "outputs": [
    {
     "name": "stdout",
     "output_type": "stream",
     "text": [
      "Let's get started!\n"
     ]
    }
   ],
   "source": [
    "print(\"Let's get started!\")"
   ]
  }
 ],
 "metadata": {
  "kernelspec": {
   "display_name": "Python(SENG413-2)",
   "language": "python",
   "name": "seng413-2"
  },
  "language_info": {
   "codemirror_mode": {
    "name": "ipython",
    "version": 3
   },
   "file_extension": ".py",
   "mimetype": "text/x-python",
   "name": "python",
   "nbconvert_exporter": "python",
   "pygments_lexer": "ipython3",
   "version": "3.11.4"
  }
 },
 "nbformat": 4,
 "nbformat_minor": 5
}
